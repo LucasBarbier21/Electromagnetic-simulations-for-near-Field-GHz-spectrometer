{
 "cells": [
  {
   "cell_type": "markdown",
   "metadata": {},
   "source": [
    "# Data Analysis From Electromagnetic Simulation via Ansys HFSS"
   ]
  },
  {
   "cell_type": "markdown",
   "metadata": {},
   "source": [
    "Import the necessary libraries"
   ]
  },
  {
   "cell_type": "code",
   "execution_count": null,
   "metadata": {},
   "outputs": [],
   "source": [
    "import numpy as np\n",
    "import matplotlib.pyplot as plt\n",
    "from scipy.optimize import curve_fit\n",
    "from scipy.linalg import eig\n",
    "import csv\n",
    "import math\n",
    "import time"
   ]
  },
  {
   "cell_type": "markdown",
   "metadata": {},
   "source": [
    "### First model : two thin plates"
   ]
  },
  {
   "cell_type": "markdown",
   "metadata": {},
   "source": [
    "The first model is made up of two thin plates facing each other. The aim is not only to test Ansys HFSS on a 3D model, but also to check that eigenmodes can be found."
   ]
  },
  {
   "cell_type": "markdown",
   "metadata": {},
   "source": [
    "Import the data"
   ]
  },
  {
   "cell_type": "code",
   "execution_count": null,
   "metadata": {},
   "outputs": [],
   "source": [
    "file_path = 'plaques_fines_constantes.csv'\n",
    "data1 = np.loadtxt(file_path, delimiter=',', skiprows=1)"
   ]
  },
  {
   "cell_type": "markdown",
   "metadata": {},
   "source": [
    "The data is then formatted for curve_fit."
   ]
  },
  {
   "cell_type": "code",
   "execution_count": null,
   "metadata": {
    "vscode": {
     "languageId": "plaintext"
    }
   },
   "outputs": [],
   "source": [
    "inductances =data1[:,0]\n",
    "mode1_1 = data1[:,1]\n",
    "mode2_1 = data1[:,2]\n",
    "mode3_1 = data1[:,3]\n",
    "\n",
    "popt1, pcov1 = curve_fit(linear_model, inductances, mode1_1)\n",
    "popt2, pcov2 = curve_fit(linear_model, inductances, mode2_1)\n",
    "popt3, pcov3 = curve_fit(linear_model, inductances, mode3_1)"
   ]
  },
  {
   "cell_type": "markdown",
   "metadata": {},
   "source": [
    "We then plot the Data"
   ]
  },
  {
   "cell_type": "code",
   "execution_count": null,
   "metadata": {
    "vscode": {
     "languageId": "plaintext"
    }
   },
   "outputs": [],
   "source": [
    "plt.figure(figsize=(5, 3))\n",
    "\n",
    "plt.plot(inductances, mode2_1, label='mode2', color='blue')\n",
    "plt.plot(inductances, mode3_1, label='mode3', color='green')\n",
    "\n",
    "plt.plot(inductances, linear_model(inductances, *popt2), 'blue', linestyle='--')\n",
    "plt.plot(inductances, linear_model(inductances, *popt3), 'green', linestyle='--')\n",
    "\n",
    "plt.xlim(10, 50)\n",
    "plt.ylim(bottom=0)  \n",
    "plt.grid(True)\n",
    "plt.legend()\n",
    "plt.xlabel('Inductance du circuit (en pH)')\n",
    "plt.ylabel(r'$f_0$')\n",
    "plt.title('Fit of Mode Frequencies as a Function of Circuit Inductance')\n",
    "plt.show()"
   ]
  },
  {
   "cell_type": "markdown",
   "metadata": {},
   "source": [
    "![alt text](45e8467b-b6c3-4bc6-b9ff-23bc356ae209.png)"
   ]
  },
  {
   "cell_type": "markdown",
   "metadata": {},
   "source": [
    "We then import the data for thin plate with a um size"
   ]
  },
  {
   "cell_type": "code",
   "execution_count": null,
   "metadata": {
    "vscode": {
     "languageId": "plaintext"
    }
   },
   "outputs": [],
   "source": [
    "file_path = 'plaques_fines_variantes_(um).csv'\n",
    "data2 = np.loadtxt(file_path, delimiter=',', skiprows=1)"
   ]
  },
  {
   "cell_type": "code",
   "execution_count": null,
   "metadata": {
    "vscode": {
     "languageId": "plaintext"
    }
   },
   "outputs": [],
   "source": [
    "inductances = data2[:,3] \n",
    "mode1 = data2[:,4]\n",
    "mode2 = data2[:,5]\n",
    "mode3 = data2[:,6]"
   ]
  },
  {
   "cell_type": "markdown",
   "metadata": {},
   "source": [
    "plt.figure(figsize=(5, 3))\n",
    "\n",
    "plt.plot(inductances, mode1, label='mode1', color='red')\n",
    "#plt.plot(inductances, mode2, label='mode2', color='blue')\n",
    "#plt.plot(inductances, mode3, label='mode3', color='green')\n",
    "\n",
    "#plt.xlim(10, 50)\n",
    "#plt.ylim(bottom=0)  \n",
    "\n",
    "plt.grid(True)\n",
    "plt.legend()\n",
    "plt.xlabel('Circuit Inductance (pH)')\n",
    "plt.ylabel(r'$f_0$')\n",
    "plt.title('Fit of Mode Frequencies as a Function of Circuit Inductance')\n",
    "plt.show()"
   ]
  },
  {
   "cell_type": "markdown",
   "metadata": {},
   "source": [
    "![alt text](4f8d6701-e5a4-4f99-bd5f-5ed1bf7ae70f.png)"
   ]
  },
  {
   "cell_type": "markdown",
   "metadata": {},
   "source": [
    "### Tip geometry"
   ]
  },
  {
   "cell_type": "markdown",
   "metadata": {},
   "source": [
    "We then simulate a geometry much closer to the real system (flat cone tip split in two)."
   ]
  },
  {
   "cell_type": "code",
   "execution_count": null,
   "metadata": {
    "vscode": {
     "languageId": "plaintext"
    }
   },
   "outputs": [],
   "source": [
    "file_path = 'test_pointe_variation_length_sur.csv'\n",
    "data5 = np.loadtxt(file_path, delimiter=',', skiprows=1)"
   ]
  },
  {
   "cell_type": "code",
   "execution_count": null,
   "metadata": {
    "vscode": {
     "languageId": "plaintext"
    }
   },
   "outputs": [],
   "source": [
    "length =data5[10:-1,0]\n",
    "mode1 = data5[10:-1,1]\n",
    "mode2 = data5[10:-1,2]\n",
    "mode3 = data5[10:-1,3]\n",
    "mode4 = data5[10:-1,4]\n",
    "mode5 = data5[10:-1,5]\n",
    "\n",
    "#popt1, pcov1 = curve_fit(linear_model, inductances, mode1)\n",
    "#popt2, pcov2 = curve_fit(linear_model, inductances, mode2)\n",
    "#popt3, pcov3 = curve_fit(linear_model, inductances, mode3)"
   ]
  },
  {
   "cell_type": "code",
   "execution_count": null,
   "metadata": {
    "vscode": {
     "languageId": "plaintext"
    }
   },
   "outputs": [],
   "source": [
    "plt.figure(figsize=(10, 6))\n",
    "\n",
    "plt.plot(length, mode1, label='mode1')\n",
    "plt.plot(length, mode2, label='mode2')\n",
    "plt.plot(length, mode3, label='mode3')\n",
    "plt.plot(length, mode4, label='mode4')\n",
    "plt.plot(length, mode5, label='mode5')\n",
    "\n",
    "#plt.plot(inductances, linear_model(inductances, *popt2), 'blue', linestyle='--')\n",
    "#plt.plot(inductances, linear_model(inductances, *popt3), 'green', linestyle='--')\n",
    "plt.ylim(bottom=0)  \n",
    "plt.grid(True)\n",
    "plt.xlabel(\"Tip length (mm)\")\n",
    "plt.ylabel(r'$f_0$')\n",
    "plt.legend()\n",
    "plt.title('Mode Frequencies as a Function of Tip Length')\n",
    "plt.show()"
   ]
  },
  {
   "cell_type": "markdown",
   "metadata": {},
   "source": [
    "![alt text](5912f0d7-fd65-4b45-874d-ceea09a62472.png)"
   ]
  },
  {
   "cell_type": "markdown",
   "metadata": {},
   "source": [
    "We then define a function that returns the value of the system capacitance as a function of plate size according to the resonance mode and the simple expression :\n",
    "$$ C = \\frac{1}{2\\pi L f_{res}^2}$$"
   ]
  },
  {
   "cell_type": "code",
   "execution_count": null,
   "metadata": {
    "vscode": {
     "languageId": "plaintext"
    }
   },
   "outputs": [],
   "source": [
    "def Capa(L,f):\n",
    "    return 1/(2*np.pi*L*f**2)"
   ]
  },
  {
   "cell_type": "markdown",
   "metadata": {},
   "source": [
    "We can then Plot the variation of capacitance as a function of tip length"
   ]
  },
  {
   "cell_type": "markdown",
   "metadata": {},
   "source": [
    "Capa1 = Capa(20e-12,mode1)\n",
    "\n",
    "plt.plot(length,Capa1, label='mode1')\n",
    "plt.grid()\n",
    "plt.legend()\n",
    "plt.xlabel('tip length')\n",
    "plt.ylabel('Capacity')"
   ]
  },
  {
   "cell_type": "markdown",
   "metadata": {},
   "source": [
    "![alt text](32aca937-b9ac-430b-a59d-6e03d93e4821.png)"
   ]
  },
  {
   "cell_type": "markdown",
   "metadata": {},
   "source": [
    "And with a greater Mesh :"
   ]
  },
  {
   "cell_type": "code",
   "execution_count": null,
   "metadata": {
    "vscode": {
     "languageId": "plaintext"
    }
   },
   "outputs": [],
   "source": [
    "file_path = 'test_pointe_variation_length_sur_2.csv'\n",
    "data6 = np.loadtxt(file_path, delimiter=',', skiprows=1)"
   ]
  },
  {
   "cell_type": "markdown",
   "metadata": {},
   "source": [
    "length =data6[10:-1,0]\n",
    "mode1_6 = data6[10:-1,1]\n",
    "mode2_6 = data6[10:-1,2]\n",
    "mode3_6 = data6[10:-1,3]\n",
    "mode4_6 = data6[10:-1,4]\n",
    "mode5_6 = data6[10:-1,5]\n",
    "\n",
    "#popt1, pcov1 = curve_fit(linear_model, inductances, mode1)\n",
    "#popt2, pcov2 = curve_fit(linear_model, inductances, mode2)\n",
    "#popt3, pcov3 = curve_fit(linear_model, inductances, mode3)"
   ]
  },
  {
   "cell_type": "code",
   "execution_count": null,
   "metadata": {
    "vscode": {
     "languageId": "plaintext"
    }
   },
   "outputs": [],
   "source": [
    "plt.figure(figsize=(10, 6))\n",
    "\n",
    "plt.plot(length, mode1_6, label='mode1')\n",
    "plt.plot(length, mode2_6, label='mode2')\n",
    "\n",
    "#plt.plot(inductances, linear_model(inductances, *popt2), 'blue', linestyle='--')\n",
    "#plt.plot(inductances, linear_model(inductances, *popt3), 'green', linestyle='--')\n",
    "plt.ylim(bottom=0)  \n",
    "plt.grid(True)\n",
    "plt.xlabel(\"Tip length (mm)\")\n",
    "plt.ylabel(r'$f_0$')\n",
    "plt.legend()\n",
    "plt.title('Mode Frequencies as a Function of Tip Length')\n",
    "plt.show()"
   ]
  },
  {
   "cell_type": "markdown",
   "metadata": {},
   "source": [
    "![alt text](75b9443c-4cd1-417a-ae84-be31a08d17ba.png)"
   ]
  },
  {
   "cell_type": "code",
   "execution_count": null,
   "metadata": {
    "vscode": {
     "languageId": "plaintext"
    }
   },
   "outputs": [],
   "source": [
    "plt.figure(figsize=(10, 6))\n",
    "\n",
    "plt.plot(length, mode1_6, label='mode1')\n",
    "plt.plot(length, mode2_6, label='mode2')\n",
    "\n",
    "#plt.plot(inductances, linear_model(inductances, *popt2), 'blue', linestyle='--')\n",
    "#plt.plot(inductances, linear_model(inductances, *popt3), 'green', linestyle='--')\n",
    "plt.ylim(bottom=0)  \n",
    "plt.xlim(0.05,0.12)  \n",
    "plt.grid(True)\n",
    "plt.xlabel(\"Tip length (mm)\")\n",
    "plt.ylabel(r'$f_0$')\n",
    "plt.legend()\n",
    "plt.title('Mode Frequencies as a Function of Tip Length')\n",
    "plt.show()"
   ]
  },
  {
   "cell_type": "markdown",
   "metadata": {},
   "source": [
    "![alt text](cabf6bd9-4503-4890-b535-7a4ec6a44635.png)"
   ]
  },
  {
   "cell_type": "markdown",
   "metadata": {},
   "source": [
    "The two peaks observed here are aberrations due to the simulation parameters in this specific configuration (Mesh)."
   ]
  },
  {
   "cell_type": "code",
   "execution_count": null,
   "metadata": {
    "vscode": {
     "languageId": "plaintext"
    }
   },
   "outputs": [],
   "source": [
    "Capa2 = Capa(20e-12,mode1_6)\n",
    "\n",
    "plt.plot(length,Capa2, label='mode1')\n",
    "plt.grid()\n",
    "plt.ylim(0,2e-12)\n",
    "plt.legend()\n",
    "plt.xlabel('tip length')\n",
    "plt.ylabel('Capacitance')"
   ]
  },
  {
   "cell_type": "markdown",
   "metadata": {},
   "source": [
    "![alt text](d9319105-be88-446a-a854-93fe5faf5f33.png)"
   ]
  },
  {
   "cell_type": "markdown",
   "metadata": {},
   "source": [
    "### We then check that our simulation gives the modes of the tip and not the parasitic modes of the box in which we perform the simulation. "
   ]
  },
  {
   "cell_type": "markdown",
   "metadata": {},
   "source": [
    "file_path = 'test_pointe_variation_facteur.csv'\n",
    "data7 = np.loadtxt(file_path, delimiter=',', skiprows=1)"
   ]
  },
  {
   "cell_type": "code",
   "execution_count": null,
   "metadata": {
    "vscode": {
     "languageId": "plaintext"
    }
   },
   "outputs": [],
   "source": [
    "facteur = data7[:-1,1]\n",
    "mode1_7 = data7[:-1,2]\n",
    "mode2_7 = data7[:-1,3]\n",
    "mode3_7 = data7[:-1,4]\n",
    "mode4_7 = data7[:-1,5]\n",
    "mode5_7 = data7[:-1,6]"
   ]
  },
  {
   "cell_type": "code",
   "execution_count": null,
   "metadata": {
    "vscode": {
     "languageId": "plaintext"
    }
   },
   "outputs": [],
   "source": [
    "plt.figure(figsize=(10, 6))\n",
    "\n",
    "plt.plot(facteur, mode1_7, label='mode1')\n",
    "plt.plot(facteur, mode2_7, label='mode2')\n",
    "\n",
    "#plt.plot(inductances, linear_model(inductances, *popt2), 'blue', linestyle='--')\n",
    "#plt.plot(inductances, linear_model(inductances, *popt3), 'green', linestyle='--')\n",
    "plt.ylim(bottom=0)  \n",
    "plt.xlim(0,60)\n",
    "plt.grid(True)\n",
    "plt.xlabel(\"facteur\")\n",
    "plt.ylabel(r'$f_0$')\n",
    "plt.legend()\n",
    "plt.title('Fréquences des modes en fonction de la taille de la boite (facteur)')\n",
    "plt.show()"
   ]
  },
  {
   "cell_type": "markdown",
   "metadata": {},
   "source": [
    "![\n",
    "](eb2e73f9-6351-4128-b401-d46fe21f0368.png)"
   ]
  },
  {
   "cell_type": "markdown",
   "metadata": {},
   "source": [
    "We can see that the mode depends on the size of the box (which is a multiple of the factor).\n",
    "\n",
    "We then try the layered mode to run the simulations."
   ]
  },
  {
   "cell_type": "code",
   "execution_count": null,
   "metadata": {
    "vscode": {
     "languageId": "plaintext"
    }
   },
   "outputs": [],
   "source": [
    "file_path = 'test_pointe_variation_facteur_layered.csv'\n",
    "data8 = np.loadtxt(file_path, delimiter=',', skiprows=1)"
   ]
  },
  {
   "cell_type": "code",
   "execution_count": null,
   "metadata": {
    "vscode": {
     "languageId": "plaintext"
    }
   },
   "outputs": [],
   "source": [
    "facteur = data8[:-1,0]\n",
    "mode1_8 = data8[:-1,1]\n",
    "mode2_8 = data8[:-1,2]\n",
    "mode3_8 = data8[:-1,3]"
   ]
  },
  {
   "cell_type": "code",
   "execution_count": null,
   "metadata": {
    "vscode": {
     "languageId": "plaintext"
    }
   },
   "outputs": [],
   "source": [
    "plt.figure(figsize=(10, 6))\n",
    "\n",
    "plt.plot(facteur, mode1_8, label='mode1')\n",
    "plt.plot(facteur, mode2_8, label='mode2')\n",
    "plt.plot(facteur, mode3_8, label='mode3')\n",
    "\n",
    "\n",
    "#plt.plot(inductances, linear_model(inductances, *popt2), 'blue', linestyle='--')\n",
    "#plt.plot(inductances, linear_model(inductances, *popt3), 'green', linestyle='--')\n",
    "plt.ylim(bottom=0)  \n",
    "plt.grid(True)\n",
    "plt.xlabel(\"facteur\")\n",
    "plt.ylabel(r'$f_0$')\n",
    "plt.legend()\n",
    "plt.title('Fréquences des modes en fonction de la taille de la boite (facteur)')\n",
    "plt.show()"
   ]
  },
  {
   "cell_type": "markdown",
   "metadata": {},
   "source": [
    "![alt text](65b6de38-9d1c-440f-a52a-c12eae940efd.png)"
   ]
  },
  {
   "cell_type": "markdown",
   "metadata": {},
   "source": [
    "Here again we have a problem, since the 3 modes seem to converge."
   ]
  },
  {
   "cell_type": "markdown",
   "metadata": {},
   "source": [
    "### Port Mode"
   ]
  },
  {
   "cell_type": "markdown",
   "metadata": {},
   "source": [
    "So far, all simulations have been carried out in “eigenmode”, without being able to demonstrate that the modes observed are indeed the modes of the tip."
   ]
  },
  {
   "cell_type": "markdown",
   "metadata": {},
   "source": [
    "We then switch to “Port” mode, modeling a copalanar waveguide that “brings” the electromagnetic wave to the tip. Reflection measurement (S11)."
   ]
  },
  {
   "cell_type": "markdown",
   "metadata": {},
   "source": [
    "A first Simulation gives us :"
   ]
  },
  {
   "cell_type": "code",
   "execution_count": null,
   "metadata": {
    "vscode": {
     "languageId": "plaintext"
    }
   },
   "outputs": [],
   "source": [
    "file_path = 'S11_test.csv'\n",
    "data9 = np.loadtxt(file_path, delimiter=',', skiprows=1)"
   ]
  },
  {
   "cell_type": "code",
   "execution_count": null,
   "metadata": {
    "vscode": {
     "languageId": "plaintext"
    }
   },
   "outputs": [],
   "source": [
    "plt.plot(data9[:,0],data9[:,1])"
   ]
  },
  {
   "cell_type": "markdown",
   "metadata": {},
   "source": [
    "For the Amplitude of S11"
   ]
  },
  {
   "cell_type": "markdown",
   "metadata": {
    "vscode": {
     "languageId": "plaintext"
    }
   },
   "source": [
    "![alt text](376cf64b-40ee-4739-ad5f-d2bbd1989c79.png)"
   ]
  },
  {
   "cell_type": "code",
   "execution_count": null,
   "metadata": {
    "vscode": {
     "languageId": "plaintext"
    }
   },
   "outputs": [],
   "source": [
    "plt.plot(data9[:,0],data9[:,2])"
   ]
  },
  {
   "cell_type": "markdown",
   "metadata": {},
   "source": [
    "For its Phase"
   ]
  },
  {
   "cell_type": "markdown",
   "metadata": {
    "vscode": {
     "languageId": "plaintext"
    }
   },
   "source": [
    "![alt text](d12c2f4a-683a-400c-a60c-5d14b2c1ab0f.png)"
   ]
  },
  {
   "cell_type": "markdown",
   "metadata": {},
   "source": [
    "Since we're in “Port” mode and displaying the E and H fields, we can easily check the relevance of the modes we're studying."
   ]
  },
  {
   "cell_type": "markdown",
   "metadata": {},
   "source": [
    "### Validation of the model"
   ]
  },
  {
   "cell_type": "markdown",
   "metadata": {},
   "source": [
    "We then vary the tip inductance and observe the evolution of the first resonance mode "
   ]
  },
  {
   "cell_type": "code",
   "execution_count": null,
   "metadata": {
    "vscode": {
     "languageId": "plaintext"
    }
   },
   "outputs": [],
   "source": [
    "file_path = 'S11_capalength_1resonance_mvtpointe_L.csv'\n",
    "data18 = np.loadtxt(file_path, delimiter=',', skiprows=1)\n",
    "file_path = 'S11_capalength_1resonance_mvtpointe_phase_L.csv'\n",
    "data19 = np.loadtxt(file_path, delimiter=',', skiprows=1)"
   ]
  },
  {
   "cell_type": "code",
   "execution_count": null,
   "metadata": {
    "vscode": {
     "languageId": "plaintext"
    }
   },
   "outputs": [],
   "source": [
    "freq18 = data18[:200,1]\n",
    "\n",
    "\n",
    "plt.figure(figsize=(20, 8))\n",
    "\n",
    "colors = plt.cm.jet(np.linspace(0,1,10))\n",
    "color = ((256-14*i)/256,0,(14*i)/256)\n",
    "\n",
    "plt.suptitle('Variation de la résonance en fonction de L')\n",
    "plt.subplot(1,2,1)\n",
    "for i in range (10):\n",
    "    plt.plot(freq18, data18[200*i:200*(i+1),2], color=colors[i] ,label='L = '+ str(data18[200*i,0]) + 'pH')\n",
    "plt.legend()\n",
    "plt.grid()\n",
    "plt.xlabel(r'$f \\ (GHz)$')\n",
    "plt.ylabel(r'$S_{11} \\ (dB)$')\n",
    "plt.subplot(1,2,2)\n",
    "\n",
    "for i in range (10):\n",
    "    if math.isnan(data19[200*i,2]) :\n",
    "        pass\n",
    "    else:\n",
    "        plt.plot(freq18, deroule(freq18,data19[200*i:200*(i+1),2]), color=colors[i] ,label='L = '+ str(data19[200*i,0]) + 'pH')\n",
    "plt.legend()\n",
    "plt.grid()\n",
    "plt.xlabel(r'$f \\ (GHz)$')\n",
    "plt.ylabel(r'$\\varphi(S_{11}) \\ (rad)$')\n",
    "plt.plot()"
   ]
  },
  {
   "cell_type": "markdown",
   "metadata": {},
   "source": [
    "![alt text](3e5554cc-935b-46fc-bb20-84bf10cef184.png)"
   ]
  },
  {
   "cell_type": "code",
   "execution_count": null,
   "metadata": {
    "vscode": {
     "languageId": "plaintext"
    }
   },
   "outputs": [],
   "source": [
    "def résonnance(L,Lth,C):\n",
    "    return 1/(2*np.pi*np.sqrt((L+Lth)*C))\n",
    "\n",
    "print((1/(2*np.pi*np.sqrt((10e-12+1e-12)*100e-12)))/1e9)"
   ]
  },
  {
   "cell_type": "code",
   "execution_count": null,
   "metadata": {
    "vscode": {
     "languageId": "plaintext"
    }
   },
   "outputs": [],
   "source": [
    "mini = []\n",
    "\n",
    "for i in range(10):\n",
    "    mini.append(np.argmin(data18[200*i:200*(i+1),2]))\n",
    "\n",
    "L=np.array([10,20,30,40,50,60,70,80,90,100])*1e-12\n",
    "freqres = data18[mini,1]*1e9\n",
    "\n",
    "guess = [7.5e-12,100e-12]\n",
    "Lpopt, Lcov = curve_fit(résonnance, L, mini, p0=guess, maxfev=1000000000)\n",
    "\n",
    "print(Lpopt)\n",
    "plt.plot(L,freqres,'+')\n",
    "#plt.plot(L,résonnance(L,*guess))\n",
    "plt.title(r'Évolution de la fréquence de résonance en fonction de L')\n",
    "plt.xlabel(r'L')\n",
    "plt.ylabel(r'$f_{res}$')\n",
    "plt.grid()"
   ]
  },
  {
   "cell_type": "markdown",
   "metadata": {},
   "source": [
    "![alt text](ce6959b2-0294-4d36-9bd3-f819551d59d9.png)"
   ]
  },
  {
   "cell_type": "markdown",
   "metadata": {},
   "source": [
    "We then study the resonant frequency of the tip as a function of the distance to the CPW"
   ]
  },
  {
   "cell_type": "code",
   "execution_count": null,
   "metadata": {
    "vscode": {
     "languageId": "plaintext"
    }
   },
   "outputs": [],
   "source": [
    "file_path = 'S11_capalength_final.csv'\n",
    "data44 = np.loadtxt(file_path, delimiter=',', skiprows=1)\n",
    "file_path = 'S11_capalength_final_phase.csv'\n",
    "data45 = np.loadtxt(file_path, delimiter=',', skiprows=1)"
   ]
  },
  {
   "cell_type": "code",
   "execution_count": null,
   "metadata": {
    "vscode": {
     "languageId": "plaintext"
    }
   },
   "outputs": [],
   "source": [
    "N=8\n",
    "nb_point = 100\n",
    "\n",
    "freq44 = data44[:nb_point,1]\n",
    "\n",
    "plt.figure(figsize=(20, 8))\n",
    "\n",
    "colors = plt.cm.jet(np.linspace(0,1,N))\n",
    "\n",
    "plt.suptitle(\"Variation de la résonance en fonction de capalength\")\n",
    "plt.subplot(1,2,1)\n",
    "for i in range (N):\n",
    "    plt.plot(freq44, data44[nb_point*i:nb_point*(i+1),2], color=colors[i] ,label='capalength = '+ str(data44[nb_point*i,0]) + 'mm')\n",
    "plt.legend()\n",
    "plt.grid()\n",
    "#plt.xlim(3.65,3.75)\n",
    "plt.xlabel(r'$f \\ (GHz)$')\n",
    "plt.ylabel(r'$S_{11} \\ (dB)$')\n",
    "plt.subplot(1,2,2)\n",
    "\n",
    "for i in range (N):\n",
    "    if math.isnan(data45[nb_point*i,2]) :\n",
    "        pass\n",
    "    else:\n",
    "        plt.plot(freq44, deroule(freq44,data45[nb_point*i:nb_point*(i+1),2]), color=colors[i] ,label='capalength = '+ str(data45[nb_point*i,0]) + 'mm')\n",
    "plt.legend(loc=4)\n",
    "plt.grid()\n",
    "#plt.xlim(3.65,3.75)\n",
    "plt.xlabel(r'$f \\ (GHz)$')\n",
    "plt.ylabel(r'$\\varphi(S_{11}) \\ (rad)$')\n",
    "plt.plot()\n",
    "\n",
    "print(freq44[np.argmin(freq44[:100,1])])"
   ]
  },
  {
   "cell_type": "markdown",
   "metadata": {},
   "source": [
    "![alt text](9a6dbd96-95a1-4b1c-b7f6-16e876972597.png)"
   ]
  },
  {
   "cell_type": "markdown",
   "metadata": {},
   "source": [
    "## Fitting"
   ]
  },
  {
   "cell_type": "markdown",
   "metadata": {
    "vscode": {
     "languageId": "plaintext"
    }
   },
   "source": [
    "We now turn to the fitting of the data collected to determine the system parameters.\n",
    "\n",
    "To do this, we use Probst's paper and take a resonant frequency such as :\n",
    "\n",
    "$$f_{res} = \\frac{1}{2\\pi\\sqrt{L_gCC_g+C^*}}$$\n",
    "\n",
    "The impedance for our line + resonator system is :\n",
    "\n",
    "$$  Z_{LCR} = \\bigg( \\frac{1}{i\\omega L}+i\\omega C + \\frac{1}{R}\\bigg)^{-1}  $$\n",
    "\n",
    "We also have : \n",
    "\n",
    "$$ S_{11} = \\Gamma = \\frac{Z - Z_0}{Z + Z_0} $$\n",
    "\n",
    "There are losses in the line, so :\n",
    "\n",
    "$$ S_{11} = \\Gamma = A\\frac{Z - Z_0}{Z + Z_0} $$"
   ]
  },
  {
   "cell_type": "markdown",
   "metadata": {
    "vscode": {
     "languageId": "plaintext"
    }
   },
   "source": [
    "Now $Z(\\omega)$ therefore $ \\Gamma (\\omega)$ "
   ]
  },
  {
   "cell_type": "markdown",
   "metadata": {},
   "source": [
    "So we fit $S_{11}$ by $\\Gamma$ to find $C$."
   ]
  },
  {
   "cell_type": "code",
   "execution_count": null,
   "metadata": {
    "vscode": {
     "languageId": "plaintext"
    }
   },
   "outputs": [],
   "source": [
    "def Z(omega,Ck,C,R):\n",
    "    L=20e-12\n",
    "    #C = 98.4e-12\n",
    "    terme1 = 1/(1j*omega*L)\n",
    "    terme2 = 1j*omega*C\n",
    "    terme3 = 1/R\n",
    "    terme6 = 1/(1j*omega*Ck)\n",
    "    return terme6 + 1/(terme1+terme2+terme3)"
   ]
  },
  {
   "cell_type": "markdown",
   "metadata": {},
   "source": [
    "def Gamma(omega,A,phi,Ck,C,R,Z0):\n",
    "    L=20e-12\n",
    "    #C = 98.4e-12\n",
    "    terme4 = Z(omega,Ck,C,R) - Z0\n",
    "    terme5 = Z(omega,Ck,C,R) + Z0\n",
    "\n",
    "    return A*np.exp(1j*phi)*terme4/terme5\n",
    "\n",
    "def AmpGamma(omega,A,phi,Ck,C,R,Z0):\n",
    "    return np.abs(Gamma(omega,A,phi,Ck,C,R,Z0))\n",
    "\n",
    "def PhaseGamma(omega,A,phi,Ck,C,R,Z0):\n",
    "    return np.angle(Gamma(omega,A,phi, Ck,C,R,Z0))"
   ]
  },
  {
   "cell_type": "code",
   "execution_count": null,
   "metadata": {
    "vscode": {
     "languageId": "plaintext"
    }
   },
   "outputs": [],
   "source": [
    "def ampl_phase(omega,A,phi,C,R,Z0,Ck):\n",
    "    ampl = Gamma(omega,A,phi,Ck,C,R,Z0).real\n",
    "    phase = Gamma(omega,A,phi,Ck,C,R,Z0).imag\n",
    "    return np.concatenate((ampl,phase))\n",
    "\n",
    "def fitting_concatene (freqs,data_ampl, data_phase, function_fit, iguess):\n",
    "    omega = 2*np.pi*freq*1e9\n",
    "    phase_der = deroule(freqs,data_phase)\n",
    "    donnees = np.concatenate((data_ampl,phase_der))\n",
    "    popt, popcov = curve_fit(function_fit,omega, donnees, iguess, maxfev=100000000, bounds=([0.98,0.1,0.5e-13,75e-12,0.1e3,40],[1,1,1e-13,90e-12,5e3,50]))\n",
    "    return popt\n",
    "\n",
    "\n",
    "#[(0.95,1),(0.1,1),(0.5e-13,1e-13),(70e-12,100e-12),(0.1e3,5e3),(40,50)]"
   ]
  },
  {
   "cell_type": "code",
   "execution_count": null,
   "metadata": {
    "vscode": {
     "languageId": "plaintext"
    }
   },
   "outputs": [],
   "source": [
    "nb_point = 180\n",
    "\n",
    "freq_fit = data38[:nb_point,2]\n",
    "\n",
    "phase_001 = data39[0:nb_point,3]\n",
    "phase_01 = data39[nb_point:2*nb_point,3]\n",
    "phase_02 = data39[nb_point*2:3*nb_point,3]\n",
    "\n",
    "ampl_001 = 10**(data38[:nb_point,3]/20)\n",
    "ampl_01 = 10**(data38[nb_point:2*nb_point,3]/20)\n",
    "ampl_02 = 10**(data38[nb_point*2:3*nb_point,3]/20)\n",
    "\n",
    "phase_der = deroule(freq_fit,phase_001)\n",
    "donnees = np.concatenate((ampl_001,phase_der))\n",
    "\n",
    "initial_guess_001 = [0.98, 0.155,0.73e-13,87e-12,1e3,47]\n",
    "Param_fit = fitting_concatene(freq_fit,ampl_001,phase_001,ampl_phase,initial_guess_001)\n",
    "#Param_fit[1] = 0.155\n",
    "\n",
    "\n",
    "plt.figure(figsize=(20,5))\n",
    "plt.subplot(1,3,1)\n",
    "plt.plot(np.concatenate((freq_fit*1e9, freq_fit*1e9)), donnees)\n",
    "plt.plot(np.concatenate((omega_th/(2*np.pi),omega_th/(2*np.pi))),ampl_phase(omega_th,*Param_fit))\n",
    "\n",
    "plt.subplot(1,3,2)\n",
    "plt.plot(freq_fit*1e9,donnees[:180])\n",
    "plt.plot(freq_fit*1e9,ampl_phase(2*np.pi*freq_fit*1e9,*Param_fit)[:180])\n",
    "\n",
    "plt.subplot(1,3,3)\n",
    "plt.plot(freq_fit*1e9,donnees[180:])\n",
    "plt.plot(freq_fit*1e9,ampl_phase(2*np.pi*freq_fit*1e9,*Param_fit)[180:])\n",
    "\n",
    "plt.figure(figsize=(20,5))\n",
    "plt.subplot(1,3,1)\n",
    "plt.plot(freq_fit*1e9, ampl_001,label='donnees')\n",
    "plt.plot(freq_fit*1e9, AmpGamma(2*np.pi*freq_fit*1e9, *Param_fit),label='fit')\n",
    "plt.legend()\n",
    "\n",
    "plt.subplot(1,3,2)\n",
    "plt.plot(freq_fit*1e9, deroule(freq_fit,phase_001),label='donnees')\n",
    "plt.plot(freq_fit*1e9, PhaseGamma(2*np.pi*freq_fit*1e9, *Param_fit),label='fit')\n",
    "plt.legend()\n",
    "\n",
    "plt.subplot(1,3,3)\n",
    "plt.plot(ampl_001, deroule(freq_fit,phase_001),'+',label='donnees')\n",
    "plt.plot(AmpGamma(omega_th, *Param_fit), PhaseGamma(omega_th, *Param_fit),'+',label='fit')\n",
    "plt.legend()\n",
    "plt.axis('equal')\n",
    "plt.show()\n",
    "print('A =',Param_fit[0], '\\nphi =',Param_fit[1],'\\nCk =',Param_fit[2], '\\nC = ',Param_fit[3],'\\nR =',Param_fit[4],'\\nZ0 =',Param_fit[5])\n",
    "\n",
    "\n",
    "print(1e-9/(2*np.pi*np.sqrt(20e-12*(Param_fit[2]+Param_fit[3]))))\n"
   ]
  },
  {
   "cell_type": "code",
   "execution_count": null,
   "metadata": {
    "vscode": {
     "languageId": "plaintext"
    }
   },
   "outputs": [],
   "source": [
    "initial_guess_001 = [0.98, 0.155 ,0.73e-13,87.3e-12,1e3,47]\n",
    "\n",
    "plt.figure(figsize=(20,5))\n",
    "plt.subplot(1,3,1)\n",
    "plt.plot(np.concatenate((freq_fit*1e9, freq_fit*1e9)), donnees,'+')\n",
    "plt.plot(np.concatenate((freq_fit*1e9,freq_fit*1e9)),ampl_phase(freq_fit*1e9*2*np.pi,*initial_guess_001),'+')\n",
    "\n",
    "plt.subplot(1,3,2)\n",
    "plt.plot(freq_fit*1e9,donnees[:180])\n",
    "plt.plot(freq_fit*1e9,ampl_phase(2*np.pi*freq_fit*1e9,*initial_guess_001)[:180])\n",
    "\n",
    "plt.subplot(1,3,3)\n",
    "plt.plot(freq_fit*1e9,donnees[180:])\n",
    "plt.plot(freq_fit*1e9,ampl_phase(2*np.pi*freq_fit*1e9,*initial_guess_001)[180:])\n",
    "\n",
    "\n",
    "plt.figure(figsize=(20,5))\n",
    "plt.subplot(1,3,1)\n",
    "plt.plot(freq_fit*1e9, ampl_001,label='donnees')\n",
    "plt.plot(freq_fit*1e9, AmpGamma(2*np.pi*freq_fit*1e9, *initial_guess_001),label='fit')\n",
    "plt.legend()\n",
    "\n",
    "plt.subplot(1,3,2)\n",
    "plt.plot(freq_fit*1e9, deroule(freq_fit,phase_001),label='donnees')\n",
    "plt.plot(freq_fit*1e9, PhaseGamma(2*np.pi*freq_fit*1e9, *initial_guess_001),label='fit')\n",
    "plt.legend()\n",
    "\n",
    "plt.subplot(1,3,3)\n",
    "plt.plot(ampl_001, deroule(freq_fit,phase_001),'+',label='donnees')\n",
    "plt.plot(Gamma(omega_th, *initial_guess_001).real, Gamma(omega_th, *initial_guess_001).imag,'+',label='fit')\n",
    "plt.legend()\n",
    "plt.axis('equal')\n",
    "plt.show()\n",
    "print('A =',Param_fit[0], '\\nphi =',Param_fit[1],'\\nCk =',Param_fit[2], '\\nC = ',Param_fit[3],'\\nR =',Param_fit[4],'\\nZ0 =',Param_fit[5])"
   ]
  },
  {
   "cell_type": "markdown",
   "metadata": {},
   "source": [
    "![alt text](Fit.png)"
   ]
  },
  {
   "cell_type": "markdown",
   "metadata": {},
   "source": []
  }
 ],
 "metadata": {
  "language_info": {
   "name": "python"
  }
 },
 "nbformat": 4,
 "nbformat_minor": 2
}
